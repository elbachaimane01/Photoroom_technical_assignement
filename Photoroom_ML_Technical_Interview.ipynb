{
  "nbformat": 4,
  "nbformat_minor": 0,
  "metadata": {
    "kernelspec": {
      "display_name": "Python 3",
      "language": "python",
      "name": "python3"
    },
    "language_info": {
      "codemirror_mode": {
        "name": "ipython",
        "version": 3
      },
      "file_extension": ".py",
      "mimetype": "text/x-python",
      "name": "python",
      "nbconvert_exporter": "python",
      "pygments_lexer": "ipython3",
      "version": "3.6.6"
    },
    "colab": {
      "provenance": []
    },
    "accelerator": "GPU"
  },
  "cells": [
    {
      "cell_type": "markdown",
      "metadata": {
        "id": "Hg0tBqjx6aqi"
      },
      "source": [
        "<img src=\"https://drive.google.com/uc?id=1zDNI5DqbrfvgrgEraXgvIv0A8WZxT-g1\"/>\n"
      ]
    },
    {
      "cell_type": "markdown",
      "metadata": {
        "id": "z6z7yQ0T3dyS"
      },
      "source": [
        "# Computer vision assigment\n",
        "\n"
      ]
    },
    {
      "cell_type": "markdown",
      "source": [
        "Hi, \n",
        "\n",
        "This is an off-site asynchronous computer vision test to join the PhotoRoom team.\n",
        "\n",
        "## Context \n",
        "You're in the process of joining the PhotoRoom team, this test will help us to know more about the way you work and you communicate. Machine learning powers the core of our product and we are always working to improve it. \n",
        "\n",
        "There's no trap: the goal is for us to know better your work habits, the way you arbitrage, communicate and code. We'd like to avoid taking too much of your time, **please don't spend more than 3 hours** on the test. We can accept an unfinished project, as long as it displays quality and it's well explained. This is an open ended exercise allowing you to showcase areas of machine learning where you excel.\n",
        "\n",
        "## Exercise \n",
        "You will train a model for facial keypoint detection. For the purpose of this exercise, we'd like you to train a convolutional network on this dataset. While you are free to take the object detection route, we recommend to treat this as an image to image translation problem, where you predict heatmaps of the keypoints.\n",
        "\n",
        "<img src=\"https://drive.google.com/uc?id=1u6wC_x3hOwG6rlcpFOJqjcIYzzNtmFDV\"/>\n",
        "\n",
        "\n",
        "We provide a small dataset of images and labels. We detail below the outline of the viable training code we'd like you to achieve. If time allows we encourage you to work further on one of the areas. Choose one which you feel can showcase your ML talent best. Afterwards we will discuss with you which choices you made and encourage you to explain why. \n",
        "\n",
        "## Required Features\n",
        "\n",
        "1. Dataloader for images and labels \n",
        "2. Convolutional neural network to predict label from image \n",
        "3. Loss function to compute prediction error\n",
        "4. Training loop to train model\n",
        "5. Validation loop to evaluate model\n",
        "6. Visualisation of results and brief commentary on model accuracy.\n",
        "\n",
        "All choices within those are down to you. We **don't expect incredible model performance**, but we do want a running model. We are fully aware of the time, hardware and dataset constraints. We are not evaluating raw accuracy.\n",
        "\n",
        "\n",
        "## Suggestions for optional improvements\n",
        "\n",
        "Network accuracy, speed, memory or the training code. E.g: extra data augmentation, hyperparameter search, network architecture, losses, logging.\n",
        "\n",
        "\n",
        "## Rules\n",
        "\n",
        "- For the purposes of this test, we'll only communicate in English and over emails\n",
        "- You can use any library, framework or model\n",
        "- You can check for help on the internet (like StackOverflow), no shame here\n",
        "    - **You must give references to the source code.**\n",
        "- You must ask us if you encounter any blocker, or if you're not sure to understand perfectly what we're expecting from you\n",
        "- At the end of the exercise, send a link to a public Github repository (or private if you prefer, in which case invite Eliot [[EliotAndres](github.com/eliotandres/)])\n",
        "- **All of the code** necessary to complete the assignment **must be included in this colab notebook.** While we understand that having separate python files may sometimes be cleaner than a notebook, this is to ensure that all candidates have access to at least one GPU. \n",
        "- After receiving the code and reviewing it, we'll schedule a 30 minutes call to discuss your work. \n",
        "\n",
        "# What's evaluated\n",
        "\n",
        "- Understanding of what we're expecting\n",
        "- Proficiency with machine learning techniques\n",
        "- Technical choices and their underlying explanations\n",
        "- Code readability/simplicity over performance\n",
        "\n",
        "\n",
        "We will provide a sample code to load the dataset and extract both the images and the facial landmarks from the csv file. \n",
        "\n",
        "\n",
        "\n",
        "# Using The GPU\n",
        "In order to use the GPU inside Colab, go to the Runtime tab and click on Change Runtime Type. Then select GPU from the dropdown menu.\n"
      ],
      "metadata": {
        "id": "HiuFqLky5yj1"
      }
    },
    {
      "cell_type": "markdown",
      "source": [
        "# My Code"
      ],
      "metadata": {
        "id": "yKcwcaTJ5z86"
      }
    },
    {
      "cell_type": "markdown",
      "source": [
        "## Imports"
      ],
      "metadata": {
        "id": "qQe21zus56cO"
      }
    },
    {
      "cell_type": "code",
      "metadata": {
        "ExecuteTime": {
          "end_time": "2021-04-16T09:07:19.478239Z",
          "start_time": "2021-04-16T09:07:19.065177Z"
        },
        "collapsed": true,
        "id": "xsJ6uYoBVxB5",
        "outputId": "57cfde99-c595-4587-e688-a8830c04b898",
        "colab": {
          "base_uri": "https://localhost:8080/"
        }
      },
      "source": [
        "import numpy as np \n",
        "import pandas as pd\n",
        "import matplotlib.pyplot as plt\n",
        "\n",
        "#Train/test splitting\n",
        "from sklearn.model_selection import train_test_split \n",
        "from sklearn.preprocessing import StandardScaler\n",
        "\n",
        "#necessary Pytorch packages\n",
        "from torch import Tensor\n",
        "from torch.utils.data import DataLoader, TensorDataset\n",
        "from torch.optim.lr_scheduler import StepLR\n",
        "import torch.optim as optim\n",
        "import torch\n",
        "import torch.nn as nn\n",
        "import torch.nn.functional as F\n",
        "\n",
        "import torchvision\n",
        "import torchvision.models as models \n",
        "from torchvision import datasets\n",
        "\n",
        "#drive\n",
        "import os\n",
        "from google.colab import drive\n",
        "drive.mount('/content/drive/', force_remount=True)\n",
        "os.chdir('/content/drive/MyDrive/MVA/Internship/PHOTOROOM/data')"
      ],
      "execution_count": 1,
      "outputs": [
        {
          "output_type": "stream",
          "name": "stdout",
          "text": [
            "Mounted at /content/drive/\n"
          ]
        }
      ]
    },
    {
      "cell_type": "code",
      "metadata": {
        "colab": {
          "base_uri": "https://localhost:8080/"
        },
        "id": "Hfq8G7y2ct4f",
        "outputId": "fc3e4d81-9abc-4b70-b7fc-dfe6d5afd4e6"
      },
      "source": [
        "!pip install gdown\n",
        "!gdown https://drive.google.com/uc?id=162YTEfBHItdy5UwqwqeXf5whXRQDcb1Q"
      ],
      "execution_count": 2,
      "outputs": [
        {
          "output_type": "stream",
          "name": "stdout",
          "text": [
            "Looking in indexes: https://pypi.org/simple, https://us-python.pkg.dev/colab-wheels/public/simple/\n",
            "Requirement already satisfied: gdown in /usr/local/lib/python3.8/dist-packages (4.4.0)\n",
            "Requirement already satisfied: tqdm in /usr/local/lib/python3.8/dist-packages (from gdown) (4.64.1)\n",
            "Requirement already satisfied: six in /usr/local/lib/python3.8/dist-packages (from gdown) (1.15.0)\n",
            "Requirement already satisfied: beautifulsoup4 in /usr/local/lib/python3.8/dist-packages (from gdown) (4.6.3)\n",
            "Requirement already satisfied: filelock in /usr/local/lib/python3.8/dist-packages (from gdown) (3.8.0)\n",
            "Requirement already satisfied: requests[socks] in /usr/local/lib/python3.8/dist-packages (from gdown) (2.23.0)\n",
            "Requirement already satisfied: chardet<4,>=3.0.2 in /usr/local/lib/python3.8/dist-packages (from requests[socks]->gdown) (3.0.4)\n",
            "Requirement already satisfied: certifi>=2017.4.17 in /usr/local/lib/python3.8/dist-packages (from requests[socks]->gdown) (2022.9.24)\n",
            "Requirement already satisfied: idna<3,>=2.5 in /usr/local/lib/python3.8/dist-packages (from requests[socks]->gdown) (2.10)\n",
            "Requirement already satisfied: urllib3!=1.25.0,!=1.25.1,<1.26,>=1.21.1 in /usr/local/lib/python3.8/dist-packages (from requests[socks]->gdown) (1.24.3)\n",
            "Requirement already satisfied: PySocks!=1.5.7,>=1.5.6 in /usr/local/lib/python3.8/dist-packages (from requests[socks]->gdown) (1.7.1)\n",
            "Access denied with the following error:\n",
            "\n",
            " \tCannot retrieve the public link of the file. You may need to change\n",
            "\tthe permission to 'Anyone with the link', or have had many accesses. \n",
            "\n",
            "You may still be able to access the file from the browser:\n",
            "\n",
            "\t https://drive.google.com/uc?id=162YTEfBHItdy5UwqwqeXf5whXRQDcb1Q \n",
            "\n"
          ]
        }
      ]
    },
    {
      "cell_type": "markdown",
      "source": [
        "## Dataset vizualization "
      ],
      "metadata": {
        "id": "gmL0Ky7-5-s6"
      }
    },
    {
      "cell_type": "code",
      "metadata": {
        "ExecuteTime": {
          "end_time": "2021-04-16T09:07:21.274688Z",
          "start_time": "2021-04-16T09:07:19.492657Z"
        },
        "colab": {
          "base_uri": "https://localhost:8080/",
          "height": 827
        },
        "id": "NzdQjQpHVxB6",
        "outputId": "9368e571-d77f-43f5-e041-787e6607eb96"
      },
      "source": [
        "df_train = pd.read_csv('training.csv')\n",
        "print(f\"DataFrame Shape {df_train.shape}\")\n",
        "df_train.head(3)"
      ],
      "execution_count": 3,
      "outputs": [
        {
          "output_type": "stream",
          "name": "stdout",
          "text": [
            "DataFrame Shape (7049, 31)\n"
          ]
        },
        {
          "output_type": "execute_result",
          "data": {
            "text/plain": [
              "   left_eye_center_x  left_eye_center_y  right_eye_center_x  \\\n",
              "0          66.033564          39.002274           30.227008   \n",
              "1          64.332936          34.970077           29.949277   \n",
              "2          65.057053          34.909642           30.903789   \n",
              "\n",
              "   right_eye_center_y  left_eye_inner_corner_x  left_eye_inner_corner_y  \\\n",
              "0           36.421678                59.582075                39.647423   \n",
              "1           33.448715                58.856170                35.274349   \n",
              "2           34.909642                59.412000                36.320968   \n",
              "\n",
              "   left_eye_outer_corner_x  left_eye_outer_corner_y  right_eye_inner_corner_x  \\\n",
              "0                73.130346                39.969997                 36.356571   \n",
              "1                70.722723                36.187166                 36.034723   \n",
              "2                70.984421                36.320968                 37.678105   \n",
              "\n",
              "   right_eye_inner_corner_y  ...  nose_tip_y  mouth_left_corner_x  \\\n",
              "0                 37.389402  ...   57.066803            61.195308   \n",
              "1                 34.361532  ...   55.660936            56.421447   \n",
              "2                 36.320968  ...   53.538947            60.822947   \n",
              "\n",
              "   mouth_left_corner_y  mouth_right_corner_x  mouth_right_corner_y  \\\n",
              "0            79.970165             28.614496             77.388992   \n",
              "1            76.352000             35.122383             76.047660   \n",
              "2            73.014316             33.726316             72.732000   \n",
              "\n",
              "   mouth_center_top_lip_x  mouth_center_top_lip_y  mouth_center_bottom_lip_x  \\\n",
              "0               43.312602               72.935459                  43.130707   \n",
              "1               46.684596               70.266553                  45.467915   \n",
              "2               47.274947               70.191789                  47.274947   \n",
              "\n",
              "   mouth_center_bottom_lip_y  \\\n",
              "0                  84.485774   \n",
              "1                  85.480170   \n",
              "2                  78.659368   \n",
              "\n",
              "                                               Image  \n",
              "0  238 236 237 238 240 240 239 241 241 243 240 23...  \n",
              "1  219 215 204 196 204 211 212 200 180 168 178 19...  \n",
              "2  144 142 159 180 188 188 184 180 167 132 84 59 ...  \n",
              "\n",
              "[3 rows x 31 columns]"
            ],
            "text/html": [
              "\n",
              "  <div id=\"df-56a261fc-fd4d-4b6d-8647-292c4afb564a\">\n",
              "    <div class=\"colab-df-container\">\n",
              "      <div>\n",
              "<style scoped>\n",
              "    .dataframe tbody tr th:only-of-type {\n",
              "        vertical-align: middle;\n",
              "    }\n",
              "\n",
              "    .dataframe tbody tr th {\n",
              "        vertical-align: top;\n",
              "    }\n",
              "\n",
              "    .dataframe thead th {\n",
              "        text-align: right;\n",
              "    }\n",
              "</style>\n",
              "<table border=\"1\" class=\"dataframe\">\n",
              "  <thead>\n",
              "    <tr style=\"text-align: right;\">\n",
              "      <th></th>\n",
              "      <th>left_eye_center_x</th>\n",
              "      <th>left_eye_center_y</th>\n",
              "      <th>right_eye_center_x</th>\n",
              "      <th>right_eye_center_y</th>\n",
              "      <th>left_eye_inner_corner_x</th>\n",
              "      <th>left_eye_inner_corner_y</th>\n",
              "      <th>left_eye_outer_corner_x</th>\n",
              "      <th>left_eye_outer_corner_y</th>\n",
              "      <th>right_eye_inner_corner_x</th>\n",
              "      <th>right_eye_inner_corner_y</th>\n",
              "      <th>...</th>\n",
              "      <th>nose_tip_y</th>\n",
              "      <th>mouth_left_corner_x</th>\n",
              "      <th>mouth_left_corner_y</th>\n",
              "      <th>mouth_right_corner_x</th>\n",
              "      <th>mouth_right_corner_y</th>\n",
              "      <th>mouth_center_top_lip_x</th>\n",
              "      <th>mouth_center_top_lip_y</th>\n",
              "      <th>mouth_center_bottom_lip_x</th>\n",
              "      <th>mouth_center_bottom_lip_y</th>\n",
              "      <th>Image</th>\n",
              "    </tr>\n",
              "  </thead>\n",
              "  <tbody>\n",
              "    <tr>\n",
              "      <th>0</th>\n",
              "      <td>66.033564</td>\n",
              "      <td>39.002274</td>\n",
              "      <td>30.227008</td>\n",
              "      <td>36.421678</td>\n",
              "      <td>59.582075</td>\n",
              "      <td>39.647423</td>\n",
              "      <td>73.130346</td>\n",
              "      <td>39.969997</td>\n",
              "      <td>36.356571</td>\n",
              "      <td>37.389402</td>\n",
              "      <td>...</td>\n",
              "      <td>57.066803</td>\n",
              "      <td>61.195308</td>\n",
              "      <td>79.970165</td>\n",
              "      <td>28.614496</td>\n",
              "      <td>77.388992</td>\n",
              "      <td>43.312602</td>\n",
              "      <td>72.935459</td>\n",
              "      <td>43.130707</td>\n",
              "      <td>84.485774</td>\n",
              "      <td>238 236 237 238 240 240 239 241 241 243 240 23...</td>\n",
              "    </tr>\n",
              "    <tr>\n",
              "      <th>1</th>\n",
              "      <td>64.332936</td>\n",
              "      <td>34.970077</td>\n",
              "      <td>29.949277</td>\n",
              "      <td>33.448715</td>\n",
              "      <td>58.856170</td>\n",
              "      <td>35.274349</td>\n",
              "      <td>70.722723</td>\n",
              "      <td>36.187166</td>\n",
              "      <td>36.034723</td>\n",
              "      <td>34.361532</td>\n",
              "      <td>...</td>\n",
              "      <td>55.660936</td>\n",
              "      <td>56.421447</td>\n",
              "      <td>76.352000</td>\n",
              "      <td>35.122383</td>\n",
              "      <td>76.047660</td>\n",
              "      <td>46.684596</td>\n",
              "      <td>70.266553</td>\n",
              "      <td>45.467915</td>\n",
              "      <td>85.480170</td>\n",
              "      <td>219 215 204 196 204 211 212 200 180 168 178 19...</td>\n",
              "    </tr>\n",
              "    <tr>\n",
              "      <th>2</th>\n",
              "      <td>65.057053</td>\n",
              "      <td>34.909642</td>\n",
              "      <td>30.903789</td>\n",
              "      <td>34.909642</td>\n",
              "      <td>59.412000</td>\n",
              "      <td>36.320968</td>\n",
              "      <td>70.984421</td>\n",
              "      <td>36.320968</td>\n",
              "      <td>37.678105</td>\n",
              "      <td>36.320968</td>\n",
              "      <td>...</td>\n",
              "      <td>53.538947</td>\n",
              "      <td>60.822947</td>\n",
              "      <td>73.014316</td>\n",
              "      <td>33.726316</td>\n",
              "      <td>72.732000</td>\n",
              "      <td>47.274947</td>\n",
              "      <td>70.191789</td>\n",
              "      <td>47.274947</td>\n",
              "      <td>78.659368</td>\n",
              "      <td>144 142 159 180 188 188 184 180 167 132 84 59 ...</td>\n",
              "    </tr>\n",
              "  </tbody>\n",
              "</table>\n",
              "<p>3 rows × 31 columns</p>\n",
              "</div>\n",
              "      <button class=\"colab-df-convert\" onclick=\"convertToInteractive('df-56a261fc-fd4d-4b6d-8647-292c4afb564a')\"\n",
              "              title=\"Convert this dataframe to an interactive table.\"\n",
              "              style=\"display:none;\">\n",
              "        \n",
              "  <svg xmlns=\"http://www.w3.org/2000/svg\" height=\"24px\"viewBox=\"0 0 24 24\"\n",
              "       width=\"24px\">\n",
              "    <path d=\"M0 0h24v24H0V0z\" fill=\"none\"/>\n",
              "    <path d=\"M18.56 5.44l.94 2.06.94-2.06 2.06-.94-2.06-.94-.94-2.06-.94 2.06-2.06.94zm-11 1L8.5 8.5l.94-2.06 2.06-.94-2.06-.94L8.5 2.5l-.94 2.06-2.06.94zm10 10l.94 2.06.94-2.06 2.06-.94-2.06-.94-.94-2.06-.94 2.06-2.06.94z\"/><path d=\"M17.41 7.96l-1.37-1.37c-.4-.4-.92-.59-1.43-.59-.52 0-1.04.2-1.43.59L10.3 9.45l-7.72 7.72c-.78.78-.78 2.05 0 2.83L4 21.41c.39.39.9.59 1.41.59.51 0 1.02-.2 1.41-.59l7.78-7.78 2.81-2.81c.8-.78.8-2.07 0-2.86zM5.41 20L4 18.59l7.72-7.72 1.47 1.35L5.41 20z\"/>\n",
              "  </svg>\n",
              "      </button>\n",
              "      \n",
              "  <style>\n",
              "    .colab-df-container {\n",
              "      display:flex;\n",
              "      flex-wrap:wrap;\n",
              "      gap: 12px;\n",
              "    }\n",
              "\n",
              "    .colab-df-convert {\n",
              "      background-color: #E8F0FE;\n",
              "      border: none;\n",
              "      border-radius: 50%;\n",
              "      cursor: pointer;\n",
              "      display: none;\n",
              "      fill: #1967D2;\n",
              "      height: 32px;\n",
              "      padding: 0 0 0 0;\n",
              "      width: 32px;\n",
              "    }\n",
              "\n",
              "    .colab-df-convert:hover {\n",
              "      background-color: #E2EBFA;\n",
              "      box-shadow: 0px 1px 2px rgba(60, 64, 67, 0.3), 0px 1px 3px 1px rgba(60, 64, 67, 0.15);\n",
              "      fill: #174EA6;\n",
              "    }\n",
              "\n",
              "    [theme=dark] .colab-df-convert {\n",
              "      background-color: #3B4455;\n",
              "      fill: #D2E3FC;\n",
              "    }\n",
              "\n",
              "    [theme=dark] .colab-df-convert:hover {\n",
              "      background-color: #434B5C;\n",
              "      box-shadow: 0px 1px 3px 1px rgba(0, 0, 0, 0.15);\n",
              "      filter: drop-shadow(0px 1px 2px rgba(0, 0, 0, 0.3));\n",
              "      fill: #FFFFFF;\n",
              "    }\n",
              "  </style>\n",
              "\n",
              "      <script>\n",
              "        const buttonEl =\n",
              "          document.querySelector('#df-56a261fc-fd4d-4b6d-8647-292c4afb564a button.colab-df-convert');\n",
              "        buttonEl.style.display =\n",
              "          google.colab.kernel.accessAllowed ? 'block' : 'none';\n",
              "\n",
              "        async function convertToInteractive(key) {\n",
              "          const element = document.querySelector('#df-56a261fc-fd4d-4b6d-8647-292c4afb564a');\n",
              "          const dataTable =\n",
              "            await google.colab.kernel.invokeFunction('convertToInteractive',\n",
              "                                                     [key], {});\n",
              "          if (!dataTable) return;\n",
              "\n",
              "          const docLinkHtml = 'Like what you see? Visit the ' +\n",
              "            '<a target=\"_blank\" href=https://colab.research.google.com/notebooks/data_table.ipynb>data table notebook</a>'\n",
              "            + ' to learn more about interactive tables.';\n",
              "          element.innerHTML = '';\n",
              "          dataTable['output_type'] = 'display_data';\n",
              "          await google.colab.output.renderOutput(dataTable, element);\n",
              "          const docLink = document.createElement('div');\n",
              "          docLink.innerHTML = docLinkHtml;\n",
              "          element.appendChild(docLink);\n",
              "        }\n",
              "      </script>\n",
              "    </div>\n",
              "  </div>\n",
              "  "
            ]
          },
          "metadata": {},
          "execution_count": 3
        }
      ]
    },
    {
      "cell_type": "code",
      "source": [
        "df_train.info()"
      ],
      "metadata": {
        "id": "rrMgxcSOWLKk",
        "outputId": "c5109c5c-a7fb-4e36-9aec-5c8a63c77fc3",
        "colab": {
          "base_uri": "https://localhost:8080/"
        }
      },
      "execution_count": 4,
      "outputs": [
        {
          "output_type": "stream",
          "name": "stdout",
          "text": [
            "<class 'pandas.core.frame.DataFrame'>\n",
            "RangeIndex: 7049 entries, 0 to 7048\n",
            "Data columns (total 31 columns):\n",
            " #   Column                     Non-Null Count  Dtype  \n",
            "---  ------                     --------------  -----  \n",
            " 0   left_eye_center_x          7039 non-null   float64\n",
            " 1   left_eye_center_y          7039 non-null   float64\n",
            " 2   right_eye_center_x         7036 non-null   float64\n",
            " 3   right_eye_center_y         7036 non-null   float64\n",
            " 4   left_eye_inner_corner_x    2271 non-null   float64\n",
            " 5   left_eye_inner_corner_y    2271 non-null   float64\n",
            " 6   left_eye_outer_corner_x    2267 non-null   float64\n",
            " 7   left_eye_outer_corner_y    2267 non-null   float64\n",
            " 8   right_eye_inner_corner_x   2268 non-null   float64\n",
            " 9   right_eye_inner_corner_y   2268 non-null   float64\n",
            " 10  right_eye_outer_corner_x   2268 non-null   float64\n",
            " 11  right_eye_outer_corner_y   2268 non-null   float64\n",
            " 12  left_eyebrow_inner_end_x   2270 non-null   float64\n",
            " 13  left_eyebrow_inner_end_y   2270 non-null   float64\n",
            " 14  left_eyebrow_outer_end_x   2225 non-null   float64\n",
            " 15  left_eyebrow_outer_end_y   2225 non-null   float64\n",
            " 16  right_eyebrow_inner_end_x  2270 non-null   float64\n",
            " 17  right_eyebrow_inner_end_y  2270 non-null   float64\n",
            " 18  right_eyebrow_outer_end_x  2236 non-null   float64\n",
            " 19  right_eyebrow_outer_end_y  2236 non-null   float64\n",
            " 20  nose_tip_x                 7049 non-null   float64\n",
            " 21  nose_tip_y                 7049 non-null   float64\n",
            " 22  mouth_left_corner_x        2269 non-null   float64\n",
            " 23  mouth_left_corner_y        2269 non-null   float64\n",
            " 24  mouth_right_corner_x       2270 non-null   float64\n",
            " 25  mouth_right_corner_y       2270 non-null   float64\n",
            " 26  mouth_center_top_lip_x     2275 non-null   float64\n",
            " 27  mouth_center_top_lip_y     2275 non-null   float64\n",
            " 28  mouth_center_bottom_lip_x  7016 non-null   float64\n",
            " 29  mouth_center_bottom_lip_y  7016 non-null   float64\n",
            " 30  Image                      7049 non-null   object \n",
            "dtypes: float64(30), object(1)\n",
            "memory usage: 1.7+ MB\n"
          ]
        }
      ]
    },
    {
      "cell_type": "markdown",
      "source": [
        ">From the dataset info we have for each image 15 points (30 cordinates in total to predict and train on) for different sections of the face. In the following parts we are going to extract the data from the cvs file then preprocess the elements and split into train and validation set. Next build a model and process the training and validation.\n",
        "\n",
        "\n",
        "\n"
      ],
      "metadata": {
        "id": "DAc3qRFRWKUD"
      }
    },
    {
      "cell_type": "markdown",
      "metadata": {
        "id": "tiThCHB63MK_"
      },
      "source": [
        "### Retrieve data :"
      ]
    },
    {
      "cell_type": "code",
      "source": [
        "feature_col = 'Image'\n",
        "target_cols = list(df_train.drop('Image', axis=1).columns)\n",
        "\n",
        "# Fill missing values\n",
        "df_train[target_cols] = df_train[target_cols].fillna(df_train[target_cols].mean())\n",
        "\n",
        "# Image characteristics\n",
        "IMG_WIDTH  = 96\n",
        "IMG_HEIGHT = 96\n",
        "IMG_CHANNELS = 1\n",
        "\n",
        "raw_images = np.array(df_train[feature_col].str.split().tolist(), dtype='float')\n",
        "images = raw_images.reshape(-1, IMG_HEIGHT, IMG_WIDTH, IMG_CHANNELS)/255.0\n",
        "\n",
        "labels = df_train[target_cols].values\n",
        "\n",
        "#total data \n",
        "print(\"Total data examples:\", len(images))\n",
        "print('Number of features', labels.shape)"
      ],
      "metadata": {
        "id": "gRvMCx5l7TRF",
        "outputId": "8fecb4cc-529d-4a9e-f542-c7a5f9d09050",
        "colab": {
          "base_uri": "https://localhost:8080/"
        }
      },
      "execution_count": 5,
      "outputs": [
        {
          "output_type": "stream",
          "name": "stdout",
          "text": [
            "Total data examples: 7049\n",
            "Number of features (7049, 30)\n"
          ]
        }
      ]
    },
    {
      "cell_type": "markdown",
      "source": [
        "Function for image and point display "
      ],
      "metadata": {
        "id": "r_a4akeiXjt0"
      }
    },
    {
      "cell_type": "code",
      "metadata": {
        "ExecuteTime": {
          "end_time": "2021-04-16T09:07:31.575359Z",
          "start_time": "2021-04-16T09:07:21.276312Z"
        },
        "id": "xdq3eRK7VxB7"
      },
      "source": [
        "def show_examples(images, landmarks):\n",
        "    fig, axes = plt.subplots(nrows=2, ncols=2, figsize=(5, 5))\n",
        "    \n",
        "    for img, marks, ax in zip(images, landmarks, axes.ravel()):\n",
        "        # Keypoints\n",
        "        x_points = marks[:: 2]\n",
        "        y_points = marks[1::2]\n",
        "        \n",
        "        ax.imshow(img.squeeze(), cmap='gray')\n",
        "        ax.scatter(x_points, y_points, s=10, color='red')\n",
        "    \n",
        "    plt.show()"
      ],
      "execution_count": 6,
      "outputs": []
    },
    {
      "cell_type": "code",
      "source": [
        "#show 4 pictures with marks \n",
        "idx = np.random.choice(4, 4)\n",
        "show_examples(images[idx], labels[idx])"
      ],
      "metadata": {
        "id": "lYyl-lj87hHw",
        "outputId": "1c238921-8326-420f-cf06-f9a228f32b23",
        "colab": {
          "base_uri": "https://localhost:8080/",
          "height": 323
        }
      },
      "execution_count": 7,
      "outputs": [
        {
          "output_type": "display_data",
          "data": {
            "text/plain": [
              "<Figure size 360x360 with 4 Axes>"
            ],
            "image/png": "[encoded data removed]"
          },
          "metadata": {
            "needs_background": "light"
          }
        }
      ]
    },
    {
      "cell_type": "markdown",
      "source": [
        "## Dataloader"
      ],
      "metadata": {
        "id": "fN5OEb8r8O_u"
      }
    },
    {
      "cell_type": "markdown",
      "source": [
        "### Split and normalize data "
      ],
      "metadata": {
        "id": "fKgm_vK6ATHo"
      }
    },
    {
      "cell_type": "markdown",
      "source": [
        "\n",
        "\n",
        "> In this section we are going to split the data into training and validation (70% 30%) then normalize the feature points. Normalization is an essential part of product information management, preventing data from being replicated in two tables at the same time or unrelated product data being gathered together in the same table. In addition, normalization helps to streamline your data, simplifying your database and making it more concise.\n",
        "\n"
      ],
      "metadata": {
        "id": "ptEiYutmX5Wo"
      }
    },
    {
      "cell_type": "code",
      "source": [
        "#Split data \n",
        "train_images, test_images, train_labels, test_labels = train_test_split(images, labels, test_size = 0.3, random_state=11)\n",
        "print(train_labels.shape)\n",
        "#normalize the labels\n",
        "#scaler = StandardScaler()\n",
        "#scaler.fit(train_labels)\n",
        "\n",
        "#train_labels_norm = scaler.transform(train_labels)\n",
        "#test_labels_norm  = scaler.transform(test_labels)\n",
        "\n",
        "print('Shape of training set ', len(train_images))\n",
        "print('Shape of test set ', len(test_images))"
      ],
      "metadata": {
        "id": "giSjudZY8R4O",
        "outputId": "51b7b344-481f-4407-b62a-5a0f2cf6529f",
        "colab": {
          "base_uri": "https://localhost:8080/"
        }
      },
      "execution_count": 8,
      "outputs": [
        {
          "output_type": "stream",
          "name": "stdout",
          "text": [
            "(4934, 30)\n",
            "Shape of training set  4934\n",
            "Shape of test set  2115\n"
          ]
        }
      ]
    },
    {
      "cell_type": "markdown",
      "source": [
        "### Dataloaders"
      ],
      "metadata": {
        "id": "zs9yz37iB1B1"
      }
    },
    {
      "cell_type": "markdown",
      "source": [
        "\n",
        "\n",
        "> In this section we are going to construct the dataloaders. Additionnally we can add data augmentation such as flipping the images and various rotations. Due to the time constraint we are going to skip this step \n",
        "\n"
      ],
      "metadata": {
        "id": "x8Y1Wn7GBotl"
      }
    },
    {
      "cell_type": "code",
      "source": [
        "#dataloaders\n",
        "df_train = TensorDataset( Tensor(train_images), Tensor(train_labels) )\n",
        "df_test= TensorDataset( Tensor(test_images), Tensor(test_labels) )\n",
        "\n",
        "#loaders\n",
        "train_loader = DataLoader(df_train, batch_size= 32)\n",
        "val_loader = DataLoader(df_test, batch_size=32 )"
      ],
      "metadata": {
        "id": "5hpZcHC7AtBG"
      },
      "execution_count": 9,
      "outputs": []
    },
    {
      "cell_type": "markdown",
      "source": [
        "## CNN model"
      ],
      "metadata": {
        "id": "k_KQqAx5B3ai"
      }
    },
    {
      "cell_type": "markdown",
      "source": [
        "\n",
        "\n",
        "> In this section we are going to construct the neural network model. I used transfer learning. Basically, transfer learning is the reuse of a pre-trained model on a new problem. It's currently very popular in deep learning because it can train deep neural networks with comparatively little data. For this task, I used a resnet50. ResNet-50 is a convolutional neural network that is 50 layers deep. We load a pretrained version of the network trained on more than a million images from the ImageNet database. \n",
        "\n",
        "\n",
        "> We start with a convolutional layer while keeping in mind shapping the input in a manner that coordinates with the resnet input. After the pretrained resnet model we add dropout layers to ovoid overfitting and linear layers \n",
        "\n",
        "\n",
        "\n",
        "\n"
      ],
      "metadata": {
        "id": "63JSxP1xY6vs"
      }
    },
    {
      "cell_type": "code",
      "source": [
        "class Resnet50(nn.Module):\n",
        "  \"\"\"\n",
        "  Class that uses ResNet50 and adds two FC layers and two Dropout layers.\n",
        "  \"\"\"\n",
        "  \n",
        "  def __init__(self):\n",
        "    super(Resnet50, self).__init__()\n",
        "    resnet = models.resnet50(weights=models.ResNet50_Weights.DEFAULT)\n",
        "    modules = list(resnet.children())[:-1]  # remove the last layer\n",
        "    self.conv2=nn.Conv2d(96,3, kernel_size=(3,1))\n",
        "    self.leakyrelu=nn.LeakyReLU()\n",
        "\n",
        "    self.resnet = nn.Sequential(*modules)\n",
        "    \n",
        "    self.linear1 = nn.Linear(resnet.fc.in_features, 1024)\n",
        "    self.linear2 = nn.Linear(2*1024, 30)\n",
        "    self.dropout1 = nn.Dropout(p=0.8)\n",
        "    self.dropout2 = nn.Dropout(p=0.5)\n",
        "    \n",
        "  def forward(self, x):\n",
        "    x=self.leakyrelu(self.conv2(x))\n",
        "    x = self.resnet(x)\n",
        "    x = x.view(x.size(0), -1)\n",
        "\n",
        "    x = self.dropout1(x)\n",
        "    \n",
        "    x = self.dropout2(x)\n",
        "    x = self.linear2(x)\n",
        "\n",
        "    return x"
      ],
      "metadata": {
        "id": "iJP4IkITB8H1"
      },
      "execution_count": 10,
      "outputs": []
    },
    {
      "cell_type": "markdown",
      "source": [
        "##Train and evaluate"
      ],
      "metadata": {
        "id": "gGeq_G6DDDR0"
      }
    },
    {
      "cell_type": "markdown",
      "source": [
        "### train and validation functions"
      ],
      "metadata": {
        "id": "NR6RqQPVaygt"
      }
    },
    {
      "cell_type": "markdown",
      "source": [
        "\n",
        "\n",
        "> For the training and validation we use MSE loss. Mean squared error (MSE) loss is used in regression tasks where we are trying to minimize an expected value of some function on our training data.\n",
        "\n"
      ],
      "metadata": {
        "id": "LHS0jcR5aYNh"
      }
    },
    {
      "cell_type": "code",
      "source": [
        "from sklearn.metrics import accuracy_score, mean_absolute_error\n",
        "def train(epoch, model , optimizer , log_interval):\n",
        "\n",
        "    model.train()\n",
        "    train_loss = 0\n",
        "    correct = 0\n",
        "    accuracy=list()\n",
        "    for batch_idx, (data, target) in enumerate(train_loader):\n",
        "        \n",
        "        if use_cuda:\n",
        "            data, target = data.cuda(), target.cuda()\n",
        "        \n",
        "        optimizer.zero_grad()\n",
        "        output = model(data)\n",
        "        \n",
        "        criterion = torch.nn.MSELoss(reduction='mean')\n",
        "        loss = criterion(output, target)\n",
        "\n",
        "        train_loss += loss.data.item()\n",
        "        loss.backward()\n",
        "        optimizer.step()\n",
        "        if batch_idx % log_interval == 0:\n",
        "            print('Train Epoch: {} [{}/{} ({:.0f}%)]\\tLoss: {:.6f}'.format(\n",
        "                epoch, batch_idx * len(data), len(train_loader.dataset),\n",
        "                100. * batch_idx / len(train_loader), loss.data.item()))\n",
        "\n",
        "    return train_loss /len(train_loader.dataset)"
      ],
      "metadata": {
        "id": "xefRPYt0B8Vi"
      },
      "execution_count": 11,
      "outputs": []
    },
    {
      "cell_type": "code",
      "source": [
        "def validation(model, epoch):\n",
        "  \n",
        "    model.eval()\n",
        "\n",
        "    validation_loss = 0\n",
        "    correct = 0\n",
        "\n",
        "    for data, target in val_loader:\n",
        "        if use_cuda:\n",
        "            data, target = data.cuda(), target.cuda()\n",
        "        output = model(data)\n",
        "        \n",
        "        # sum up batch loss\n",
        "        criterion = torch.nn.MSELoss(reduction='mean')\n",
        "        validation_loss += criterion(output, target).data.item()\n",
        "\n",
        "        \n",
        "\n",
        "    validation_loss /= len(val_loader.dataset)\n",
        "    \n",
        "    print('\\nValidation set: Average loss: {:.4f}, '.format(\n",
        "        validation_loss))\n",
        "    \n",
        "    return validation_loss "
      ],
      "metadata": {
        "id": "wdqAzd7wDJ2N"
      },
      "execution_count": 12,
      "outputs": []
    },
    {
      "cell_type": "markdown",
      "source": [
        "### Train and validation  loop"
      ],
      "metadata": {
        "id": "eZ3pEBleDcNa"
      }
    },
    {
      "cell_type": "code",
      "source": [
        "# Lists to store performances \n",
        "val_loss_list= []\n",
        "train_loss_list = []\n",
        "num_epochs=30\n",
        "# Hyperparameters after parameter tuning\n",
        "hyperparam = {'lr':1e-4, 'w_decay':1e-5, 'step_size' : 20 , 'gamma' : 0.1} \n",
        "\n",
        "# Define the model\n",
        "model =Resnet50() ### The best model \n",
        "use_cuda = torch.cuda.is_available()\n",
        "if torch.cuda.is_available():\n",
        "  model.cuda()\n",
        "\n",
        "optimizer = optim.Adam(params=model.parameters(), lr=hyperparam['lr'], weight_decay=hyperparam['w_decay'])\n",
        "scheduler = StepLR(optimizer, step_size=hyperparam['step_size'], gamma=hyperparam['gamma'])  \n",
        "\n",
        "\n",
        "for epoch in range(1, num_epochs + 1):\n",
        "\n",
        "    train_loss  = train(epoch, model , optimizer, 10)\n",
        "    val_loss  = validation(model, epoch)\n",
        "    \n",
        "    val_loss_list.append(val_loss)\n",
        "    train_loss_list.append(train_loss)\n",
        "\n",
        "    scheduler.step()"
      ],
      "metadata": {
        "id": "60G7HA98DmLR",
        "outputId": "2ff0fa04-5b6b-4cac-eafe-315ba108992f",
        "colab": {
          "base_uri": "https://localhost:8080/"
        }
      },
      "execution_count": 13,
      "outputs": [
        {
          "output_type": "stream",
          "name": "stdout",
          "text": [
            "Train Epoch: 1 [0/4934 (0%)]\tLoss: 2614.897461\n",
            "Train Epoch: 1 [320/4934 (6%)]\tLoss: 2647.456787\n",
            "Train Epoch: 1 [640/4934 (13%)]\tLoss: 2565.458008\n",
            "Train Epoch: 1 [960/4934 (19%)]\tLoss: 2582.513184\n",
            "Train Epoch: 1 [1280/4934 (26%)]\tLoss: 2565.438965\n",
            "Train Epoch: 1 [1600/4934 (32%)]\tLoss: 2546.146973\n",
            "Train Epoch: 1 [1920/4934 (39%)]\tLoss: 2492.400146\n",
            "Train Epoch: 1 [2240/4934 (45%)]\tLoss: 2504.194824\n",
            "Train Epoch: 1 [2560/4934 (52%)]\tLoss: 2463.238770\n",
            "Train Epoch: 1 [2880/4934 (58%)]\tLoss: 2389.627686\n",
            "Train Epoch: 1 [3200/4934 (65%)]\tLoss: 2359.643799\n",
            "Train Epoch: 1 [3520/4934 (71%)]\tLoss: 2332.937988\n",
            "Train Epoch: 1 [3840/4934 (77%)]\tLoss: 2238.810303\n",
            "Train Epoch: 1 [4160/4934 (84%)]\tLoss: 2207.822998\n",
            "Train Epoch: 1 [4480/4934 (90%)]\tLoss: 2132.885742\n",
            "Train Epoch: 1 [4800/4934 (97%)]\tLoss: 1995.844727\n",
            "\n",
            "Validation set: Average loss: 60.4992, \n",
            "Train Epoch: 2 [0/4934 (0%)]\tLoss: 1989.416748\n",
            "Train Epoch: 2 [320/4934 (6%)]\tLoss: 2040.261230\n",
            "Train Epoch: 2 [640/4934 (13%)]\tLoss: 1788.520264\n",
            "Train Epoch: 2 [960/4934 (19%)]\tLoss: 1671.715576\n",
            "Train Epoch: 2 [1280/4934 (26%)]\tLoss: 1629.093262\n",
            "Train Epoch: 2 [1600/4934 (32%)]\tLoss: 1393.445312\n",
            "Train Epoch: 2 [1920/4934 (39%)]\tLoss: 1352.266846\n",
            "Train Epoch: 2 [2240/4934 (45%)]\tLoss: 1169.972168\n",
            "Train Epoch: 2 [2560/4934 (52%)]\tLoss: 1026.709473\n",
            "Train Epoch: 2 [2880/4934 (58%)]\tLoss: 895.667175\n",
            "Train Epoch: 2 [3200/4934 (65%)]\tLoss: 806.725037\n",
            "Train Epoch: 2 [3520/4934 (71%)]\tLoss: 716.503784\n",
            "Train Epoch: 2 [3840/4934 (77%)]\tLoss: 491.447845\n",
            "Train Epoch: 2 [4160/4934 (84%)]\tLoss: 409.291321\n",
            "Train Epoch: 2 [4480/4934 (90%)]\tLoss: 256.236450\n",
            "Train Epoch: 2 [4800/4934 (97%)]\tLoss: 209.498596\n",
            "\n",
            "Validation set: Average loss: 6.2700, \n",
            "Train Epoch: 3 [0/4934 (0%)]\tLoss: 164.078735\n",
            "Train Epoch: 3 [320/4934 (6%)]\tLoss: 157.293472\n",
            "Train Epoch: 3 [640/4934 (13%)]\tLoss: 129.542313\n",
            "Train Epoch: 3 [960/4934 (19%)]\tLoss: 133.805008\n",
            "Train Epoch: 3 [1280/4934 (26%)]\tLoss: 133.196594\n",
            "Train Epoch: 3 [1600/4934 (32%)]\tLoss: 85.726875\n",
            "Train Epoch: 3 [1920/4934 (39%)]\tLoss: 95.318260\n",
            "Train Epoch: 3 [2240/4934 (45%)]\tLoss: 69.177521\n",
            "Train Epoch: 3 [2560/4934 (52%)]\tLoss: 153.750595\n",
            "Train Epoch: 3 [2880/4934 (58%)]\tLoss: 86.334038\n",
            "Train Epoch: 3 [3200/4934 (65%)]\tLoss: 54.876244\n",
            "Train Epoch: 3 [3520/4934 (71%)]\tLoss: 92.589195\n",
            "Train Epoch: 3 [3840/4934 (77%)]\tLoss: 53.202980\n",
            "Train Epoch: 3 [4160/4934 (84%)]\tLoss: 51.228561\n",
            "Train Epoch: 3 [4480/4934 (90%)]\tLoss: 62.299072\n",
            "Train Epoch: 3 [4800/4934 (97%)]\tLoss: 50.230148\n",
            "\n",
            "Validation set: Average loss: 0.5539, \n",
            "Train Epoch: 4 [0/4934 (0%)]\tLoss: 47.248959\n",
            "Train Epoch: 4 [320/4934 (6%)]\tLoss: 51.936382\n",
            "Train Epoch: 4 [640/4934 (13%)]\tLoss: 69.361694\n",
            "Train Epoch: 4 [960/4934 (19%)]\tLoss: 48.717850\n",
            "Train Epoch: 4 [1280/4934 (26%)]\tLoss: 47.041725\n",
            "Train Epoch: 4 [1600/4934 (32%)]\tLoss: 36.772903\n",
            "Train Epoch: 4 [1920/4934 (39%)]\tLoss: 37.475117\n",
            "Train Epoch: 4 [2240/4934 (45%)]\tLoss: 39.045765\n",
            "Train Epoch: 4 [2560/4934 (52%)]\tLoss: 51.034344\n",
            "Train Epoch: 4 [2880/4934 (58%)]\tLoss: 48.371567\n",
            "Train Epoch: 4 [3200/4934 (65%)]\tLoss: 38.033634\n",
            "Train Epoch: 4 [3520/4934 (71%)]\tLoss: 52.120975\n",
            "Train Epoch: 4 [3840/4934 (77%)]\tLoss: 48.117107\n",
            "Train Epoch: 4 [4160/4934 (84%)]\tLoss: 47.484913\n",
            "Train Epoch: 4 [4480/4934 (90%)]\tLoss: 47.460209\n",
            "Train Epoch: 4 [4800/4934 (97%)]\tLoss: 35.852810\n",
            "\n",
            "Validation set: Average loss: 0.3378, \n",
            "Train Epoch: 5 [0/4934 (0%)]\tLoss: 37.628929\n",
            "Train Epoch: 5 [320/4934 (6%)]\tLoss: 53.901352\n",
            "Train Epoch: 5 [640/4934 (13%)]\tLoss: 44.347115\n",
            "Train Epoch: 5 [960/4934 (19%)]\tLoss: 39.129055\n",
            "Train Epoch: 5 [1280/4934 (26%)]\tLoss: 65.191559\n",
            "Train Epoch: 5 [1600/4934 (32%)]\tLoss: 58.795998\n",
            "Train Epoch: 5 [1920/4934 (39%)]\tLoss: 44.138641\n",
            "Train Epoch: 5 [2240/4934 (45%)]\tLoss: 36.252525\n",
            "Train Epoch: 5 [2560/4934 (52%)]\tLoss: 46.415783\n",
            "Train Epoch: 5 [2880/4934 (58%)]\tLoss: 53.394058\n",
            "Train Epoch: 5 [3200/4934 (65%)]\tLoss: 41.385784\n",
            "Train Epoch: 5 [3520/4934 (71%)]\tLoss: 44.506668\n",
            "Train Epoch: 5 [3840/4934 (77%)]\tLoss: 40.703655\n",
            "Train Epoch: 5 [4160/4934 (84%)]\tLoss: 43.687843\n",
            "Train Epoch: 5 [4480/4934 (90%)]\tLoss: 35.359863\n",
            "Train Epoch: 5 [4800/4934 (97%)]\tLoss: 45.709743\n",
            "\n",
            "Validation set: Average loss: 0.4477, \n",
            "Train Epoch: 6 [0/4934 (0%)]\tLoss: 33.511650\n",
            "Train Epoch: 6 [320/4934 (6%)]\tLoss: 51.198944\n",
            "Train Epoch: 6 [640/4934 (13%)]\tLoss: 41.373039\n",
            "Train Epoch: 6 [960/4934 (19%)]\tLoss: 32.899094\n",
            "Train Epoch: 6 [1280/4934 (26%)]\tLoss: 25.907173\n",
            "Train Epoch: 6 [1600/4934 (32%)]\tLoss: 43.362442\n",
            "Train Epoch: 6 [1920/4934 (39%)]\tLoss: 33.640404\n",
            "Train Epoch: 6 [2240/4934 (45%)]\tLoss: 48.843670\n",
            "Train Epoch: 6 [2560/4934 (52%)]\tLoss: 33.818855\n",
            "Train Epoch: 6 [2880/4934 (58%)]\tLoss: 51.864601\n",
            "Train Epoch: 6 [3200/4934 (65%)]\tLoss: 39.863968\n",
            "Train Epoch: 6 [3520/4934 (71%)]\tLoss: 43.658344\n",
            "Train Epoch: 6 [3840/4934 (77%)]\tLoss: 35.146835\n",
            "Train Epoch: 6 [4160/4934 (84%)]\tLoss: 46.096016\n",
            "Train Epoch: 6 [4480/4934 (90%)]\tLoss: 42.356838\n",
            "Train Epoch: 6 [4800/4934 (97%)]\tLoss: 41.053570\n",
            "\n",
            "Validation set: Average loss: 0.3204, \n",
            "Train Epoch: 7 [0/4934 (0%)]\tLoss: 37.149952\n",
            "Train Epoch: 7 [320/4934 (6%)]\tLoss: 36.548519\n",
            "Train Epoch: 7 [640/4934 (13%)]\tLoss: 49.617142\n",
            "Train Epoch: 7 [960/4934 (19%)]\tLoss: 51.664181\n",
            "Train Epoch: 7 [1280/4934 (26%)]\tLoss: 51.439842\n",
            "Train Epoch: 7 [1600/4934 (32%)]\tLoss: 32.841087\n",
            "Train Epoch: 7 [1920/4934 (39%)]\tLoss: 32.368713\n",
            "Train Epoch: 7 [2240/4934 (45%)]\tLoss: 52.843327\n",
            "Train Epoch: 7 [2560/4934 (52%)]\tLoss: 43.024670\n",
            "Train Epoch: 7 [2880/4934 (58%)]\tLoss: 26.378330\n",
            "Train Epoch: 7 [3200/4934 (65%)]\tLoss: 53.219120\n",
            "Train Epoch: 7 [3520/4934 (71%)]\tLoss: 36.592152\n",
            "Train Epoch: 7 [3840/4934 (77%)]\tLoss: 40.687149\n",
            "Train Epoch: 7 [4160/4934 (84%)]\tLoss: 40.145672\n",
            "Train Epoch: 7 [4480/4934 (90%)]\tLoss: 40.550522\n",
            "Train Epoch: 7 [4800/4934 (97%)]\tLoss: 34.236824\n",
            "\n",
            "Validation set: Average loss: 0.2872, \n",
            "Train Epoch: 8 [0/4934 (0%)]\tLoss: 40.256649\n",
            "Train Epoch: 8 [320/4934 (6%)]\tLoss: 40.776287\n",
            "Train Epoch: 8 [640/4934 (13%)]\tLoss: 52.386444\n",
            "Train Epoch: 8 [960/4934 (19%)]\tLoss: 36.837605\n",
            "Train Epoch: 8 [1280/4934 (26%)]\tLoss: 32.219711\n",
            "Train Epoch: 8 [1600/4934 (32%)]\tLoss: 51.089581\n",
            "Train Epoch: 8 [1920/4934 (39%)]\tLoss: 34.268280\n",
            "Train Epoch: 8 [2240/4934 (45%)]\tLoss: 41.862778\n",
            "Train Epoch: 8 [2560/4934 (52%)]\tLoss: 36.420788\n",
            "Train Epoch: 8 [2880/4934 (58%)]\tLoss: 30.071737\n",
            "Train Epoch: 8 [3200/4934 (65%)]\tLoss: 53.991051\n",
            "Train Epoch: 8 [3520/4934 (71%)]\tLoss: 51.417580\n",
            "Train Epoch: 8 [3840/4934 (77%)]\tLoss: 50.879414\n",
            "Train Epoch: 8 [4160/4934 (84%)]\tLoss: 30.311907\n",
            "Train Epoch: 8 [4480/4934 (90%)]\tLoss: 37.334312\n",
            "Train Epoch: 8 [4800/4934 (97%)]\tLoss: 53.633678\n",
            "\n",
            "Validation set: Average loss: 0.3486, \n",
            "Train Epoch: 9 [0/4934 (0%)]\tLoss: 34.464180\n",
            "Train Epoch: 9 [320/4934 (6%)]\tLoss: 56.381016\n",
            "Train Epoch: 9 [640/4934 (13%)]\tLoss: 48.179813\n",
            "Train Epoch: 9 [960/4934 (19%)]\tLoss: 39.312332\n",
            "Train Epoch: 9 [1280/4934 (26%)]\tLoss: 31.653601\n",
            "Train Epoch: 9 [1600/4934 (32%)]\tLoss: 29.017939\n",
            "Train Epoch: 9 [1920/4934 (39%)]\tLoss: 40.679737\n",
            "Train Epoch: 9 [2240/4934 (45%)]\tLoss: 33.639801\n",
            "Train Epoch: 9 [2560/4934 (52%)]\tLoss: 34.214355\n",
            "Train Epoch: 9 [2880/4934 (58%)]\tLoss: 51.570705\n",
            "Train Epoch: 9 [3200/4934 (65%)]\tLoss: 48.437996\n",
            "Train Epoch: 9 [3520/4934 (71%)]\tLoss: 43.713894\n",
            "Train Epoch: 9 [3840/4934 (77%)]\tLoss: 40.147659\n",
            "Train Epoch: 9 [4160/4934 (84%)]\tLoss: 30.327648\n",
            "Train Epoch: 9 [4480/4934 (90%)]\tLoss: 36.831406\n",
            "Train Epoch: 9 [4800/4934 (97%)]\tLoss: 34.554920\n",
            "\n",
            "Validation set: Average loss: 0.3048, \n",
            "Train Epoch: 10 [0/4934 (0%)]\tLoss: 47.151005\n",
            "Train Epoch: 10 [320/4934 (6%)]\tLoss: 39.702621\n",
            "Train Epoch: 10 [640/4934 (13%)]\tLoss: 57.315140\n",
            "Train Epoch: 10 [960/4934 (19%)]\tLoss: 54.136127\n",
            "Train Epoch: 10 [1280/4934 (26%)]\tLoss: 42.398533\n",
            "Train Epoch: 10 [1600/4934 (32%)]\tLoss: 36.381252\n",
            "Train Epoch: 10 [1920/4934 (39%)]\tLoss: 40.670135\n",
            "Train Epoch: 10 [2240/4934 (45%)]\tLoss: 43.459709\n",
            "Train Epoch: 10 [2560/4934 (52%)]\tLoss: 32.789516\n",
            "Train Epoch: 10 [2880/4934 (58%)]\tLoss: 35.045929\n",
            "Train Epoch: 10 [3200/4934 (65%)]\tLoss: 48.633636\n",
            "Train Epoch: 10 [3520/4934 (71%)]\tLoss: 34.291058\n",
            "Train Epoch: 10 [3840/4934 (77%)]\tLoss: 28.491590\n",
            "Train Epoch: 10 [4160/4934 (84%)]\tLoss: 43.147243\n",
            "Train Epoch: 10 [4480/4934 (90%)]\tLoss: 33.790596\n",
            "Train Epoch: 10 [4800/4934 (97%)]\tLoss: 42.788357\n",
            "\n",
            "Validation set: Average loss: 0.3095, \n",
            "Train Epoch: 11 [0/4934 (0%)]\tLoss: 34.729687\n",
            "Train Epoch: 11 [320/4934 (6%)]\tLoss: 46.618973\n",
            "Train Epoch: 11 [640/4934 (13%)]\tLoss: 42.947449\n",
            "Train Epoch: 11 [960/4934 (19%)]\tLoss: 34.627483\n",
            "Train Epoch: 11 [1280/4934 (26%)]\tLoss: 34.638393\n",
            "Train Epoch: 11 [1600/4934 (32%)]\tLoss: 36.282005\n",
            "Train Epoch: 11 [1920/4934 (39%)]\tLoss: 63.162987\n",
            "Train Epoch: 11 [2240/4934 (45%)]\tLoss: 42.420322\n",
            "Train Epoch: 11 [2560/4934 (52%)]\tLoss: 33.003845\n",
            "Train Epoch: 11 [2880/4934 (58%)]\tLoss: 32.583366\n",
            "Train Epoch: 11 [3200/4934 (65%)]\tLoss: 34.949306\n",
            "Train Epoch: 11 [3520/4934 (71%)]\tLoss: 41.143257\n",
            "Train Epoch: 11 [3840/4934 (77%)]\tLoss: 40.408070\n",
            "Train Epoch: 11 [4160/4934 (84%)]\tLoss: 32.227062\n",
            "Train Epoch: 11 [4480/4934 (90%)]\tLoss: 26.095053\n",
            "Train Epoch: 11 [4800/4934 (97%)]\tLoss: 41.399075\n",
            "\n",
            "Validation set: Average loss: 0.4266, \n",
            "Train Epoch: 12 [0/4934 (0%)]\tLoss: 31.784016\n",
            "Train Epoch: 12 [320/4934 (6%)]\tLoss: 33.835915\n",
            "Train Epoch: 12 [640/4934 (13%)]\tLoss: 36.136570\n",
            "Train Epoch: 12 [960/4934 (19%)]\tLoss: 32.680065\n",
            "Train Epoch: 12 [1280/4934 (26%)]\tLoss: 26.552870\n",
            "Train Epoch: 12 [1600/4934 (32%)]\tLoss: 42.023663\n",
            "Train Epoch: 12 [1920/4934 (39%)]\tLoss: 35.568005\n",
            "Train Epoch: 12 [2240/4934 (45%)]\tLoss: 28.018572\n",
            "Train Epoch: 12 [2560/4934 (52%)]\tLoss: 30.601818\n",
            "Train Epoch: 12 [2880/4934 (58%)]\tLoss: 30.336348\n",
            "Train Epoch: 12 [3200/4934 (65%)]\tLoss: 42.221725\n",
            "Train Epoch: 12 [3520/4934 (71%)]\tLoss: 35.069622\n",
            "Train Epoch: 12 [3840/4934 (77%)]\tLoss: 32.647194\n",
            "Train Epoch: 12 [4160/4934 (84%)]\tLoss: 28.753391\n",
            "Train Epoch: 12 [4480/4934 (90%)]\tLoss: 39.827198\n",
            "Train Epoch: 12 [4800/4934 (97%)]\tLoss: 31.195343\n",
            "\n",
            "Validation set: Average loss: 0.5036, \n",
            "Train Epoch: 13 [0/4934 (0%)]\tLoss: 21.984093\n",
            "Train Epoch: 13 [320/4934 (6%)]\tLoss: 42.225628\n",
            "Train Epoch: 13 [640/4934 (13%)]\tLoss: 51.834480\n",
            "Train Epoch: 13 [960/4934 (19%)]\tLoss: 31.264111\n",
            "Train Epoch: 13 [1280/4934 (26%)]\tLoss: 31.533981\n",
            "Train Epoch: 13 [1600/4934 (32%)]\tLoss: 32.725494\n",
            "Train Epoch: 13 [1920/4934 (39%)]\tLoss: 45.517719\n",
            "Train Epoch: 13 [2240/4934 (45%)]\tLoss: 36.854347\n",
            "Train Epoch: 13 [2560/4934 (52%)]\tLoss: 33.279411\n",
            "Train Epoch: 13 [2880/4934 (58%)]\tLoss: 54.905022\n",
            "Train Epoch: 13 [3200/4934 (65%)]\tLoss: 37.269600\n",
            "Train Epoch: 13 [3520/4934 (71%)]\tLoss: 38.347881\n",
            "Train Epoch: 13 [3840/4934 (77%)]\tLoss: 49.550426\n",
            "Train Epoch: 13 [4160/4934 (84%)]\tLoss: 39.907536\n",
            "Train Epoch: 13 [4480/4934 (90%)]\tLoss: 20.803627\n",
            "Train Epoch: 13 [4800/4934 (97%)]\tLoss: 47.721741\n",
            "\n",
            "Validation set: Average loss: 0.3502, \n",
            "Train Epoch: 14 [0/4934 (0%)]\tLoss: 32.171867\n",
            "Train Epoch: 14 [320/4934 (6%)]\tLoss: 34.264950\n",
            "Train Epoch: 14 [640/4934 (13%)]\tLoss: 47.336327\n",
            "Train Epoch: 14 [960/4934 (19%)]\tLoss: 34.704983\n",
            "Train Epoch: 14 [1280/4934 (26%)]\tLoss: 32.760586\n",
            "Train Epoch: 14 [1600/4934 (32%)]\tLoss: 31.195890\n",
            "Train Epoch: 14 [1920/4934 (39%)]\tLoss: 33.236443\n",
            "Train Epoch: 14 [2240/4934 (45%)]\tLoss: 34.079678\n",
            "Train Epoch: 14 [2560/4934 (52%)]\tLoss: 35.219006\n",
            "Train Epoch: 14 [2880/4934 (58%)]\tLoss: 33.092236\n",
            "Train Epoch: 14 [3200/4934 (65%)]\tLoss: 45.084366\n",
            "Train Epoch: 14 [3520/4934 (71%)]\tLoss: 30.006390\n",
            "Train Epoch: 14 [3840/4934 (77%)]\tLoss: 25.560108\n",
            "Train Epoch: 14 [4160/4934 (84%)]\tLoss: 27.607269\n",
            "Train Epoch: 14 [4480/4934 (90%)]\tLoss: 32.781239\n",
            "Train Epoch: 14 [4800/4934 (97%)]\tLoss: 45.927498\n",
            "\n",
            "Validation set: Average loss: 0.3220, \n",
            "Train Epoch: 15 [0/4934 (0%)]\tLoss: 38.545292\n",
            "Train Epoch: 15 [320/4934 (6%)]\tLoss: 32.725861\n",
            "Train Epoch: 15 [640/4934 (13%)]\tLoss: 39.857574\n",
            "Train Epoch: 15 [960/4934 (19%)]\tLoss: 34.179337\n",
            "Train Epoch: 15 [1280/4934 (26%)]\tLoss: 25.784885\n",
            "Train Epoch: 15 [1600/4934 (32%)]\tLoss: 34.465042\n",
            "Train Epoch: 15 [1920/4934 (39%)]\tLoss: 41.037319\n",
            "Train Epoch: 15 [2240/4934 (45%)]\tLoss: 32.935173\n",
            "Train Epoch: 15 [2560/4934 (52%)]\tLoss: 25.986162\n",
            "Train Epoch: 15 [2880/4934 (58%)]\tLoss: 35.114326\n",
            "Train Epoch: 15 [3200/4934 (65%)]\tLoss: 29.484735\n",
            "Train Epoch: 15 [3520/4934 (71%)]\tLoss: 38.041279\n",
            "Train Epoch: 15 [3840/4934 (77%)]\tLoss: 29.180372\n",
            "Train Epoch: 15 [4160/4934 (84%)]\tLoss: 40.712139\n",
            "Train Epoch: 15 [4480/4934 (90%)]\tLoss: 27.550291\n",
            "Train Epoch: 15 [4800/4934 (97%)]\tLoss: 22.921640\n",
            "\n",
            "Validation set: Average loss: 0.5498, \n",
            "Train Epoch: 16 [0/4934 (0%)]\tLoss: 28.304873\n",
            "Train Epoch: 16 [320/4934 (6%)]\tLoss: 27.981377\n",
            "Train Epoch: 16 [640/4934 (13%)]\tLoss: 40.033230\n",
            "Train Epoch: 16 [960/4934 (19%)]\tLoss: 35.063194\n",
            "Train Epoch: 16 [1280/4934 (26%)]\tLoss: 23.319115\n",
            "Train Epoch: 16 [1600/4934 (32%)]\tLoss: 32.542431\n",
            "Train Epoch: 16 [1920/4934 (39%)]\tLoss: 29.019028\n",
            "Train Epoch: 16 [2240/4934 (45%)]\tLoss: 29.597708\n",
            "Train Epoch: 16 [2560/4934 (52%)]\tLoss: 28.183784\n",
            "Train Epoch: 16 [2880/4934 (58%)]\tLoss: 33.375290\n",
            "Train Epoch: 16 [3200/4934 (65%)]\tLoss: 36.556114\n",
            "Train Epoch: 16 [3520/4934 (71%)]\tLoss: 27.887539\n",
            "Train Epoch: 16 [3840/4934 (77%)]\tLoss: 33.231956\n",
            "Train Epoch: 16 [4160/4934 (84%)]\tLoss: 47.502430\n",
            "Train Epoch: 16 [4480/4934 (90%)]\tLoss: 25.240110\n",
            "Train Epoch: 16 [4800/4934 (97%)]\tLoss: 26.929949\n",
            "\n",
            "Validation set: Average loss: 0.5176, \n",
            "Train Epoch: 17 [0/4934 (0%)]\tLoss: 27.630241\n",
            "Train Epoch: 17 [320/4934 (6%)]\tLoss: 36.269394\n",
            "Train Epoch: 17 [640/4934 (13%)]\tLoss: 40.132450\n",
            "Train Epoch: 17 [960/4934 (19%)]\tLoss: 31.661224\n",
            "Train Epoch: 17 [1280/4934 (26%)]\tLoss: 37.636524\n",
            "Train Epoch: 17 [1600/4934 (32%)]\tLoss: 31.299616\n",
            "Train Epoch: 17 [1920/4934 (39%)]\tLoss: 48.152428\n",
            "Train Epoch: 17 [2240/4934 (45%)]\tLoss: 41.492447\n",
            "Train Epoch: 17 [2560/4934 (52%)]\tLoss: 26.024681\n",
            "Train Epoch: 17 [2880/4934 (58%)]\tLoss: 48.345699\n",
            "Train Epoch: 17 [3200/4934 (65%)]\tLoss: 34.828705\n",
            "Train Epoch: 17 [3520/4934 (71%)]\tLoss: 42.754795\n",
            "Train Epoch: 17 [3840/4934 (77%)]\tLoss: 21.788282\n",
            "Train Epoch: 17 [4160/4934 (84%)]\tLoss: 23.452057\n",
            "Train Epoch: 17 [4480/4934 (90%)]\tLoss: 35.916771\n",
            "Train Epoch: 17 [4800/4934 (97%)]\tLoss: 26.373688\n",
            "\n",
            "Validation set: Average loss: 0.3669, \n",
            "Train Epoch: 18 [0/4934 (0%)]\tLoss: 26.095242\n",
            "Train Epoch: 18 [320/4934 (6%)]\tLoss: 43.962025\n",
            "Train Epoch: 18 [640/4934 (13%)]\tLoss: 48.605511\n",
            "Train Epoch: 18 [960/4934 (19%)]\tLoss: 39.968605\n",
            "Train Epoch: 18 [1280/4934 (26%)]\tLoss: 32.265579\n",
            "Train Epoch: 18 [1600/4934 (32%)]\tLoss: 25.157734\n",
            "Train Epoch: 18 [1920/4934 (39%)]\tLoss: 34.832420\n",
            "Train Epoch: 18 [2240/4934 (45%)]\tLoss: 37.672718\n",
            "Train Epoch: 18 [2560/4934 (52%)]\tLoss: 26.951040\n",
            "Train Epoch: 18 [2880/4934 (58%)]\tLoss: 20.885754\n",
            "Train Epoch: 18 [3200/4934 (65%)]\tLoss: 40.371529\n",
            "Train Epoch: 18 [3520/4934 (71%)]\tLoss: 26.760256\n",
            "Train Epoch: 18 [3840/4934 (77%)]\tLoss: 23.627190\n",
            "Train Epoch: 18 [4160/4934 (84%)]\tLoss: 40.945885\n",
            "Train Epoch: 18 [4480/4934 (90%)]\tLoss: 25.089682\n",
            "Train Epoch: 18 [4800/4934 (97%)]\tLoss: 29.031651\n",
            "\n",
            "Validation set: Average loss: 0.7283, \n",
            "Train Epoch: 19 [0/4934 (0%)]\tLoss: 28.172056\n",
            "Train Epoch: 19 [320/4934 (6%)]\tLoss: 38.233597\n",
            "Train Epoch: 19 [640/4934 (13%)]\tLoss: 44.620396\n",
            "Train Epoch: 19 [960/4934 (19%)]\tLoss: 40.571312\n",
            "Train Epoch: 19 [1280/4934 (26%)]\tLoss: 24.362411\n",
            "Train Epoch: 19 [1600/4934 (32%)]\tLoss: 23.532164\n",
            "Train Epoch: 19 [1920/4934 (39%)]\tLoss: 37.054203\n",
            "Train Epoch: 19 [2240/4934 (45%)]\tLoss: 31.440704\n",
            "Train Epoch: 19 [2560/4934 (52%)]\tLoss: 33.642349\n",
            "Train Epoch: 19 [2880/4934 (58%)]\tLoss: 28.813524\n",
            "Train Epoch: 19 [3200/4934 (65%)]\tLoss: 32.791252\n",
            "Train Epoch: 19 [3520/4934 (71%)]\tLoss: 36.615391\n",
            "Train Epoch: 19 [3840/4934 (77%)]\tLoss: 36.653999\n",
            "Train Epoch: 19 [4160/4934 (84%)]\tLoss: 24.537518\n",
            "Train Epoch: 19 [4480/4934 (90%)]\tLoss: 34.329720\n",
            "Train Epoch: 19 [4800/4934 (97%)]\tLoss: 26.293112\n",
            "\n",
            "Validation set: Average loss: 0.2926, \n",
            "Train Epoch: 20 [0/4934 (0%)]\tLoss: 26.187567\n",
            "Train Epoch: 20 [320/4934 (6%)]\tLoss: 31.876314\n",
            "Train Epoch: 20 [640/4934 (13%)]\tLoss: 38.957970\n",
            "Train Epoch: 20 [960/4934 (19%)]\tLoss: 39.101650\n",
            "Train Epoch: 20 [1280/4934 (26%)]\tLoss: 33.243202\n",
            "Train Epoch: 20 [1600/4934 (32%)]\tLoss: 38.456703\n",
            "Train Epoch: 20 [1920/4934 (39%)]\tLoss: 29.218433\n",
            "Train Epoch: 20 [2240/4934 (45%)]\tLoss: 26.243988\n",
            "Train Epoch: 20 [2560/4934 (52%)]\tLoss: 35.316170\n",
            "Train Epoch: 20 [2880/4934 (58%)]\tLoss: 29.793686\n",
            "Train Epoch: 20 [3200/4934 (65%)]\tLoss: 38.507835\n",
            "Train Epoch: 20 [3520/4934 (71%)]\tLoss: 32.141171\n",
            "Train Epoch: 20 [3840/4934 (77%)]\tLoss: 28.794525\n",
            "Train Epoch: 20 [4160/4934 (84%)]\tLoss: 26.882875\n",
            "Train Epoch: 20 [4480/4934 (90%)]\tLoss: 29.254238\n",
            "Train Epoch: 20 [4800/4934 (97%)]\tLoss: 25.434895\n",
            "\n",
            "Validation set: Average loss: 0.4842, \n",
            "Train Epoch: 21 [0/4934 (0%)]\tLoss: 34.707050\n",
            "Train Epoch: 21 [320/4934 (6%)]\tLoss: 29.201057\n",
            "Train Epoch: 21 [640/4934 (13%)]\tLoss: 46.367157\n",
            "Train Epoch: 21 [960/4934 (19%)]\tLoss: 26.536484\n",
            "Train Epoch: 21 [1280/4934 (26%)]\tLoss: 34.298939\n",
            "Train Epoch: 21 [1600/4934 (32%)]\tLoss: 22.141281\n",
            "Train Epoch: 21 [1920/4934 (39%)]\tLoss: 28.051586\n",
            "Train Epoch: 21 [2240/4934 (45%)]\tLoss: 37.220867\n",
            "Train Epoch: 21 [2560/4934 (52%)]\tLoss: 35.458843\n",
            "Train Epoch: 21 [2880/4934 (58%)]\tLoss: 32.648926\n",
            "Train Epoch: 21 [3200/4934 (65%)]\tLoss: 37.561306\n",
            "Train Epoch: 21 [3520/4934 (71%)]\tLoss: 34.171551\n",
            "Train Epoch: 21 [3840/4934 (77%)]\tLoss: 22.564974\n",
            "Train Epoch: 21 [4160/4934 (84%)]\tLoss: 40.208580\n",
            "Train Epoch: 21 [4480/4934 (90%)]\tLoss: 28.195940\n",
            "Train Epoch: 21 [4800/4934 (97%)]\tLoss: 24.484764\n",
            "\n",
            "Validation set: Average loss: 0.3122, \n",
            "Train Epoch: 22 [0/4934 (0%)]\tLoss: 26.543976\n",
            "Train Epoch: 22 [320/4934 (6%)]\tLoss: 32.398331\n",
            "Train Epoch: 22 [640/4934 (13%)]\tLoss: 39.024464\n",
            "Train Epoch: 22 [960/4934 (19%)]\tLoss: 33.036816\n",
            "Train Epoch: 22 [1280/4934 (26%)]\tLoss: 25.062933\n",
            "Train Epoch: 22 [1600/4934 (32%)]\tLoss: 39.179371\n",
            "Train Epoch: 22 [1920/4934 (39%)]\tLoss: 24.231771\n",
            "Train Epoch: 22 [2240/4934 (45%)]\tLoss: 43.463753\n",
            "Train Epoch: 22 [2560/4934 (52%)]\tLoss: 26.095522\n",
            "Train Epoch: 22 [2880/4934 (58%)]\tLoss: 29.539427\n",
            "Train Epoch: 22 [3200/4934 (65%)]\tLoss: 25.759182\n",
            "Train Epoch: 22 [3520/4934 (71%)]\tLoss: 29.512690\n",
            "Train Epoch: 22 [3840/4934 (77%)]\tLoss: 28.918118\n",
            "Train Epoch: 22 [4160/4934 (84%)]\tLoss: 30.495636\n",
            "Train Epoch: 22 [4480/4934 (90%)]\tLoss: 32.677811\n",
            "Train Epoch: 22 [4800/4934 (97%)]\tLoss: 30.940554\n",
            "\n",
            "Validation set: Average loss: 0.3057, \n",
            "Train Epoch: 23 [0/4934 (0%)]\tLoss: 25.319021\n",
            "Train Epoch: 23 [320/4934 (6%)]\tLoss: 28.567608\n",
            "Train Epoch: 23 [640/4934 (13%)]\tLoss: 42.419750\n",
            "Train Epoch: 23 [960/4934 (19%)]\tLoss: 29.339430\n",
            "Train Epoch: 23 [1280/4934 (26%)]\tLoss: 23.758043\n",
            "Train Epoch: 23 [1600/4934 (32%)]\tLoss: 35.154217\n",
            "Train Epoch: 23 [1920/4934 (39%)]\tLoss: 28.943653\n",
            "Train Epoch: 23 [2240/4934 (45%)]\tLoss: 33.937885\n",
            "Train Epoch: 23 [2560/4934 (52%)]\tLoss: 30.584801\n",
            "Train Epoch: 23 [2880/4934 (58%)]\tLoss: 37.059433\n",
            "Train Epoch: 23 [3200/4934 (65%)]\tLoss: 23.897938\n",
            "Train Epoch: 23 [3520/4934 (71%)]\tLoss: 30.307283\n",
            "Train Epoch: 23 [3840/4934 (77%)]\tLoss: 22.331161\n",
            "Train Epoch: 23 [4160/4934 (84%)]\tLoss: 31.394178\n",
            "Train Epoch: 23 [4480/4934 (90%)]\tLoss: 21.563242\n",
            "Train Epoch: 23 [4800/4934 (97%)]\tLoss: 34.480911\n",
            "\n",
            "Validation set: Average loss: 0.2826, \n",
            "Train Epoch: 24 [0/4934 (0%)]\tLoss: 19.682875\n",
            "Train Epoch: 24 [320/4934 (6%)]\tLoss: 34.931946\n",
            "Train Epoch: 24 [640/4934 (13%)]\tLoss: 36.634960\n",
            "Train Epoch: 24 [960/4934 (19%)]\tLoss: 34.411057\n",
            "Train Epoch: 24 [1280/4934 (26%)]\tLoss: 20.987165\n",
            "Train Epoch: 24 [1600/4934 (32%)]\tLoss: 26.218088\n",
            "Train Epoch: 24 [1920/4934 (39%)]\tLoss: 30.663126\n",
            "Train Epoch: 24 [2240/4934 (45%)]\tLoss: 43.205364\n",
            "Train Epoch: 24 [2560/4934 (52%)]\tLoss: 26.109327\n",
            "Train Epoch: 24 [2880/4934 (58%)]\tLoss: 24.496458\n",
            "Train Epoch: 24 [3200/4934 (65%)]\tLoss: 36.792870\n",
            "Train Epoch: 24 [3520/4934 (71%)]\tLoss: 33.017708\n",
            "Train Epoch: 24 [3840/4934 (77%)]\tLoss: 21.439304\n",
            "Train Epoch: 24 [4160/4934 (84%)]\tLoss: 23.870426\n",
            "Train Epoch: 24 [4480/4934 (90%)]\tLoss: 18.056293\n",
            "Train Epoch: 24 [4800/4934 (97%)]\tLoss: 23.877167\n",
            "\n",
            "Validation set: Average loss: 0.2835, \n",
            "Train Epoch: 25 [0/4934 (0%)]\tLoss: 35.676506\n",
            "Train Epoch: 25 [320/4934 (6%)]\tLoss: 34.644360\n",
            "Train Epoch: 25 [640/4934 (13%)]\tLoss: 38.416855\n",
            "Train Epoch: 25 [960/4934 (19%)]\tLoss: 30.388853\n",
            "Train Epoch: 25 [1280/4934 (26%)]\tLoss: 30.920179\n",
            "Train Epoch: 25 [1600/4934 (32%)]\tLoss: 33.701061\n",
            "Train Epoch: 25 [1920/4934 (39%)]\tLoss: 29.245848\n",
            "Train Epoch: 25 [2240/4934 (45%)]\tLoss: 28.185610\n",
            "Train Epoch: 25 [2560/4934 (52%)]\tLoss: 36.104095\n",
            "Train Epoch: 25 [2880/4934 (58%)]\tLoss: 26.161110\n",
            "Train Epoch: 25 [3200/4934 (65%)]\tLoss: 25.204229\n",
            "Train Epoch: 25 [3520/4934 (71%)]\tLoss: 31.062334\n",
            "Train Epoch: 25 [3840/4934 (77%)]\tLoss: 26.498020\n",
            "Train Epoch: 25 [4160/4934 (84%)]\tLoss: 35.935165\n",
            "Train Epoch: 25 [4480/4934 (90%)]\tLoss: 25.155487\n",
            "Train Epoch: 25 [4800/4934 (97%)]\tLoss: 27.141994\n",
            "\n",
            "Validation set: Average loss: 0.2887, \n",
            "Train Epoch: 26 [0/4934 (0%)]\tLoss: 24.871771\n",
            "Train Epoch: 26 [320/4934 (6%)]\tLoss: 31.984678\n",
            "Train Epoch: 26 [640/4934 (13%)]\tLoss: 33.880402\n",
            "Train Epoch: 26 [960/4934 (19%)]\tLoss: 25.795708\n",
            "Train Epoch: 26 [1280/4934 (26%)]\tLoss: 33.061607\n",
            "Train Epoch: 26 [1600/4934 (32%)]\tLoss: 23.009544\n",
            "Train Epoch: 26 [1920/4934 (39%)]\tLoss: 39.789787\n",
            "Train Epoch: 26 [2240/4934 (45%)]\tLoss: 33.465637\n",
            "Train Epoch: 26 [2560/4934 (52%)]\tLoss: 21.062744\n",
            "Train Epoch: 26 [2880/4934 (58%)]\tLoss: 28.799734\n",
            "Train Epoch: 26 [3200/4934 (65%)]\tLoss: 27.950651\n",
            "Train Epoch: 26 [3520/4934 (71%)]\tLoss: 28.618073\n",
            "Train Epoch: 26 [3840/4934 (77%)]\tLoss: 29.004990\n",
            "Train Epoch: 26 [4160/4934 (84%)]\tLoss: 27.638426\n",
            "Train Epoch: 26 [4480/4934 (90%)]\tLoss: 21.994556\n",
            "Train Epoch: 26 [4800/4934 (97%)]\tLoss: 36.962250\n",
            "\n",
            "Validation set: Average loss: 0.2656, \n",
            "Train Epoch: 27 [0/4934 (0%)]\tLoss: 33.030918\n",
            "Train Epoch: 27 [320/4934 (6%)]\tLoss: 30.870640\n",
            "Train Epoch: 27 [640/4934 (13%)]\tLoss: 31.780312\n",
            "Train Epoch: 27 [960/4934 (19%)]\tLoss: 25.340822\n",
            "Train Epoch: 27 [1280/4934 (26%)]\tLoss: 30.607162\n",
            "Train Epoch: 27 [1600/4934 (32%)]\tLoss: 17.861017\n",
            "Train Epoch: 27 [1920/4934 (39%)]\tLoss: 36.928539\n",
            "Train Epoch: 27 [2240/4934 (45%)]\tLoss: 31.295715\n",
            "Train Epoch: 27 [2560/4934 (52%)]\tLoss: 29.352509\n",
            "Train Epoch: 27 [2880/4934 (58%)]\tLoss: 35.393978\n",
            "Train Epoch: 27 [3200/4934 (65%)]\tLoss: 28.169418\n",
            "Train Epoch: 27 [3520/4934 (71%)]\tLoss: 40.103603\n",
            "Train Epoch: 27 [3840/4934 (77%)]\tLoss: 24.620529\n",
            "Train Epoch: 27 [4160/4934 (84%)]\tLoss: 29.256773\n",
            "Train Epoch: 27 [4480/4934 (90%)]\tLoss: 33.688839\n",
            "Train Epoch: 27 [4800/4934 (97%)]\tLoss: 28.419760\n",
            "\n",
            "Validation set: Average loss: 0.2769, \n",
            "Train Epoch: 28 [0/4934 (0%)]\tLoss: 18.321976\n",
            "Train Epoch: 28 [320/4934 (6%)]\tLoss: 27.934212\n",
            "Train Epoch: 28 [640/4934 (13%)]\tLoss: 39.198994\n",
            "Train Epoch: 28 [960/4934 (19%)]\tLoss: 28.349888\n",
            "Train Epoch: 28 [1280/4934 (26%)]\tLoss: 21.258511\n",
            "Train Epoch: 28 [1600/4934 (32%)]\tLoss: 30.779703\n",
            "Train Epoch: 28 [1920/4934 (39%)]\tLoss: 37.551350\n",
            "Train Epoch: 28 [2240/4934 (45%)]\tLoss: 30.799768\n",
            "Train Epoch: 28 [2560/4934 (52%)]\tLoss: 27.417181\n",
            "Train Epoch: 28 [2880/4934 (58%)]\tLoss: 22.855974\n",
            "Train Epoch: 28 [3200/4934 (65%)]\tLoss: 22.852491\n",
            "Train Epoch: 28 [3520/4934 (71%)]\tLoss: 26.900539\n",
            "Train Epoch: 28 [3840/4934 (77%)]\tLoss: 31.212372\n",
            "Train Epoch: 28 [4160/4934 (84%)]\tLoss: 29.021250\n",
            "Train Epoch: 28 [4480/4934 (90%)]\tLoss: 26.134411\n",
            "Train Epoch: 28 [4800/4934 (97%)]\tLoss: 22.084320\n",
            "\n",
            "Validation set: Average loss: 0.2664, \n",
            "Train Epoch: 29 [0/4934 (0%)]\tLoss: 30.784031\n",
            "Train Epoch: 29 [320/4934 (6%)]\tLoss: 41.205292\n",
            "Train Epoch: 29 [640/4934 (13%)]\tLoss: 34.365479\n",
            "Train Epoch: 29 [960/4934 (19%)]\tLoss: 29.628830\n",
            "Train Epoch: 29 [1280/4934 (26%)]\tLoss: 16.416403\n",
            "Train Epoch: 29 [1600/4934 (32%)]\tLoss: 23.772760\n",
            "Train Epoch: 29 [1920/4934 (39%)]\tLoss: 38.392769\n",
            "Train Epoch: 29 [2240/4934 (45%)]\tLoss: 27.839556\n",
            "Train Epoch: 29 [2560/4934 (52%)]\tLoss: 31.662535\n",
            "Train Epoch: 29 [2880/4934 (58%)]\tLoss: 28.128778\n",
            "Train Epoch: 29 [3200/4934 (65%)]\tLoss: 23.306578\n",
            "Train Epoch: 29 [3520/4934 (71%)]\tLoss: 23.129930\n",
            "Train Epoch: 29 [3840/4934 (77%)]\tLoss: 25.254927\n",
            "Train Epoch: 29 [4160/4934 (84%)]\tLoss: 35.068089\n",
            "Train Epoch: 29 [4480/4934 (90%)]\tLoss: 23.420525\n",
            "Train Epoch: 29 [4800/4934 (97%)]\tLoss: 30.332426\n",
            "\n",
            "Validation set: Average loss: 0.2769, \n",
            "Train Epoch: 30 [0/4934 (0%)]\tLoss: 26.514608\n",
            "Train Epoch: 30 [320/4934 (6%)]\tLoss: 24.659801\n",
            "Train Epoch: 30 [640/4934 (13%)]\tLoss: 47.192623\n",
            "Train Epoch: 30 [960/4934 (19%)]\tLoss: 20.651995\n",
            "Train Epoch: 30 [1280/4934 (26%)]\tLoss: 26.570473\n",
            "Train Epoch: 30 [1600/4934 (32%)]\tLoss: 32.809898\n",
            "Train Epoch: 30 [1920/4934 (39%)]\tLoss: 31.814642\n",
            "Train Epoch: 30 [2240/4934 (45%)]\tLoss: 42.116737\n",
            "Train Epoch: 30 [2560/4934 (52%)]\tLoss: 23.217733\n",
            "Train Epoch: 30 [2880/4934 (58%)]\tLoss: 39.149685\n",
            "Train Epoch: 30 [3200/4934 (65%)]\tLoss: 37.735943\n",
            "Train Epoch: 30 [3520/4934 (71%)]\tLoss: 29.276854\n",
            "Train Epoch: 30 [3840/4934 (77%)]\tLoss: 25.616127\n",
            "Train Epoch: 30 [4160/4934 (84%)]\tLoss: 34.129475\n",
            "Train Epoch: 30 [4480/4934 (90%)]\tLoss: 26.239500\n",
            "Train Epoch: 30 [4800/4934 (97%)]\tLoss: 23.434763\n",
            "\n",
            "Validation set: Average loss: 0.2740, \n"
          ]
        }
      ]
    },
    {
      "cell_type": "markdown",
      "source": [
        "### Performance display "
      ],
      "metadata": {
        "id": "6RMPuK7ibD7I"
      }
    },
    {
      "cell_type": "code",
      "source": [
        "plt.figure(figsize=(10,10))\n",
        "plt.plot(val_loss_list,'-o',label='validation loss')\n",
        "plt.plot(train_loss_list,'-o',label='train losss')\n",
        "\n",
        "plt.xlabel('epoch')\n",
        "plt.ylabel('loss')\n",
        "\n",
        "plt.legend()"
      ],
      "metadata": {
        "id": "hnVud-qpStoL",
        "outputId": "22f7332e-52dc-410f-f7d2-78821fd1427e",
        "colab": {
          "base_uri": "https://localhost:8080/",
          "height": 623
        }
      },
      "execution_count": 14,
      "outputs": [
        {
          "output_type": "execute_result",
          "data": {
            "text/plain": [
              "<matplotlib.legend.Legend at 0x7f935da99340>"
            ]
          },
          "metadata": {},
          "execution_count": 14
        },
        {
          "output_type": "display_data",
          "data": {
            "text/plain": [
              "<Figure size 720x720 with 1 Axes>"
            ],
            "image/png": "[encoded data removed]"
          },
          "metadata": {
            "needs_background": "light"
          }
        }
      ]
    },
    {
      "cell_type": "markdown",
      "source": [
        "### Display examples "
      ],
      "metadata": {
        "id": "LKlX7YF3bgjf"
      }
    },
    {
      "cell_type": "code",
      "source": [
        "def image_show(image,marks,preds):\n",
        "    image=image.numpy()\n",
        "    marks=marks.detach().numpy().reshape(1, -1)\n",
        "    \n",
        "   \n",
        "    preds=preds.detach().numpy()\n",
        "    preds=preds.reshape(1, -1)\n",
        "    x_points = marks[0][:: 2]\n",
        "   \n",
        "    y_points = marks[0][1::2]\n",
        "    x_pred = preds[0][:: 2]\n",
        "    y_pred = preds[0][1::2]\n",
        "    plt.imshow(image.squeeze(), cmap='gray')\n",
        "    plt.scatter(x_points, y_points, s=10, color='red')\n",
        "    plt.scatter(x_pred, y_pred, s=10, color='green')\n",
        "    \n",
        "    plt.show()"
      ],
      "metadata": {
        "id": "kDlbAUQqbxxG"
      },
      "execution_count": 15,
      "outputs": []
    },
    {
      "cell_type": "code",
      "source": [
        "\n",
        "# get some random training images\n",
        "dataiter = iter(train_loader)\n",
        "images, labels = next(dataiter)\n",
        "\n",
        "images, labels= images.cuda(), labels.cuda()\n",
        "pred=model(images).cpu()\n",
        "images, labels= images.cpu(), labels.cpu()\n",
        "\n",
        "# show images\n",
        "plt.figure(figsize=(4,4))\n",
        "image_show(images[9],labels[9],pred[9])\n",
        "\n",
        "image_show(images[1],labels[1],pred[1])"
      ],
      "metadata": {
        "id": "-skACLPMbj6j",
        "outputId": "c10a786a-965a-468d-d782-6e09f9c09e7f",
        "colab": {
          "base_uri": "https://localhost:8080/",
          "height": 519
        }
      },
      "execution_count": 18,
      "outputs": [
        {
          "output_type": "display_data",
          "data": {
            "text/plain": [
              "<Figure size 288x288 with 1 Axes>"
            ],
            "image/png": "[encoded data removed]"
          },
          "metadata": {
            "needs_background": "light"
          }
        },
        {
          "output_type": "display_data",
          "data": {
            "text/plain": [
              "<Figure size 432x288 with 1 Axes>"
            ],
            "image/png": "[encoded data removed]"
          },
          "metadata": {
            "needs_background": "light"
          }
        }
      ]
    }
  ]
}